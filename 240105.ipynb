{
  "nbformat": 4,
  "nbformat_minor": 0,
  "metadata": {
    "colab": {
      "provenance": [],
      "authorship_tag": "ABX9TyPKalmHTBUMYuT8dQdkwTMB",
      "include_colab_link": true
    },
    "kernelspec": {
      "name": "python3",
      "display_name": "Python 3"
    },
    "language_info": {
      "name": "python"
    }
  },
  "cells": [
    {
      "cell_type": "markdown",
      "metadata": {
        "id": "view-in-github",
        "colab_type": "text"
      },
      "source": [
        "<a href=\"https://colab.research.google.com/github/GitYutae/AIpython/blob/main/240105.ipynb\" target=\"_parent\"><img src=\"https://colab.research.google.com/assets/colab-badge.svg\" alt=\"Open In Colab\"/></a>"
      ]
    },
    {
      "cell_type": "markdown",
      "source": [
        "split & join"
      ],
      "metadata": {
        "id": "WK_wedssTOH9"
      }
    },
    {
      "cell_type": "code",
      "execution_count": 4,
      "metadata": {
        "colab": {
          "base_uri": "https://localhost:8080/"
        },
        "id": "ExkB7jdHOUbG",
        "outputId": "540278ed-bbea-46e6-af7a-3210828aa934"
      },
      "outputs": [
        {
          "output_type": "stream",
          "name": "stdout",
          "text": [
            "Name: John Age: 30 Occupation: Engineer\n",
            "Name: Alice Age: 25 Occupation: Designer\n",
            "Name: Bob Age: 22 Occupation: Artist\n"
          ]
        }
      ],
      "source": [
        "#split : 나누어 리스트로 반환\n",
        "\n",
        "data = \"John,30,Engineer\\nAlice,25,Designer\\nBob,22,Artist\"\n",
        "lines = data.split(\"\\n\")\n",
        "\n",
        "\n",
        "for line in lines:\n",
        "  fields = line.split(\",\")\n",
        "  print(\"Name:\",fields[0],\"Age:\",fields[1],\"Occupation:\",fields[2])"
      ]
    },
    {
      "cell_type": "code",
      "source": [
        "#join: 각 요소를 문자열로 변환하고, 주어진 구분자로 결합하여 하나의 문자열로 반환\n",
        "\n",
        "words = ['Hello', 'world', 'this', 'is', 'a', 'test']\n",
        "sentence = ' '.join(words)\n",
        "print(sentence)"
      ],
      "metadata": {
        "colab": {
          "base_uri": "https://localhost:8080/"
        },
        "id": "XD7mVjMJPK4m",
        "outputId": "1b502015-22ca-4908-ad38-6ef934575d4d"
      },
      "execution_count": 6,
      "outputs": [
        {
          "output_type": "stream",
          "name": "stdout",
          "text": [
            "Hello world this is a test\n"
          ]
        }
      ]
    },
    {
      "cell_type": "code",
      "source": [
        "data = input()\n",
        "lines = data.split(\" \")\n",
        "\n",
        "print(lines)"
      ],
      "metadata": {
        "colab": {
          "base_uri": "https://localhost:8080/"
        },
        "id": "FnF-xZTGPumm",
        "outputId": "d7f47f06-5c0d-45f9-fe07-924ed81f3ef8"
      },
      "execution_count": 7,
      "outputs": [
        {
          "output_type": "stream",
          "name": "stdout",
          "text": [
            "Geeks for Geeks\n",
            "['Geeks', 'for', 'Geeks']\n"
          ]
        }
      ]
    },
    {
      "cell_type": "code",
      "source": [
        "data = input()\n",
        "print(data.split(\" \"))"
      ],
      "metadata": {
        "colab": {
          "base_uri": "https://localhost:8080/"
        },
        "id": "GgLa2F7cRM1G",
        "outputId": "f19ccdc8-ad26-4420-d76e-1bde5311e6c9"
      },
      "execution_count": 13,
      "outputs": [
        {
          "output_type": "stream",
          "name": "stdout",
          "text": [
            "Geeks for Geeks\n",
            "['Geeks', 'for', 'Geeks']\n"
          ]
        }
      ]
    },
    {
      "cell_type": "code",
      "source": [
        "List_data = input()\n",
        "sentence = '-'.join(List_data)\n",
        "print(List_data)\n",
        "print(sentence)"
      ],
      "metadata": {
        "colab": {
          "base_uri": "https://localhost:8080/"
        },
        "id": "SAlymp9zQHx8",
        "outputId": "ad210e40-ef4a-47ec-c588-7a611ba9052b"
      },
      "execution_count": 12,
      "outputs": [
        {
          "output_type": "stream",
          "name": "stdout",
          "text": [
            "['Geeks', 'for', 'Geeks']\n",
            "['Geeks', 'for', 'Geeks']\n",
            "[-'-G-e-e-k-s-'-,- -'-f-o-r-'-,- -'-G-e-e-k-s-'-]\n"
          ]
        }
      ]
    },
    {
      "cell_type": "markdown",
      "source": [
        "List comprehension"
      ],
      "metadata": {
        "id": "oE6I1y1zTLAy"
      }
    },
    {
      "cell_type": "code",
      "source": [
        "squares = [x**2 for x in range(5) if x%2 == 0 ]\n",
        "print(squares)"
      ],
      "metadata": {
        "colab": {
          "base_uri": "https://localhost:8080/"
        },
        "id": "px_adkvjRzud",
        "outputId": "e2ea0197-5abd-4b69-d199-4925f84ded3d"
      },
      "execution_count": 16,
      "outputs": [
        {
          "output_type": "stream",
          "name": "stdout",
          "text": [
            "[0, 4, 16]\n"
          ]
        }
      ]
    },
    {
      "cell_type": "code",
      "source": [
        "squares = [x**2 for x in range(0,5,2)]\n",
        "print(squares)"
      ],
      "metadata": {
        "colab": {
          "base_uri": "https://localhost:8080/"
        },
        "id": "Xc1dZcU5S67u",
        "outputId": "7f78e838-cc7e-427c-9a86-195fc99bf2d6"
      },
      "execution_count": 17,
      "outputs": [
        {
          "output_type": "stream",
          "name": "stdout",
          "text": [
            "[0, 4, 16]\n"
          ]
        }
      ]
    },
    {
      "cell_type": "code",
      "source": [
        "#1부터 20까지 3의 배수만 제곱한 리스트\n",
        "\n",
        "squares = [x**2 for x in range(1,21) if x%3 == 0]\n",
        "print(squares)"
      ],
      "metadata": {
        "colab": {
          "base_uri": "https://localhost:8080/"
        },
        "id": "8s-rKoRwTT1A",
        "outputId": "ffe250dd-1529-45c3-ad9c-352bc3669933"
      },
      "execution_count": 20,
      "outputs": [
        {
          "output_type": "stream",
          "name": "stdout",
          "text": [
            "[9, 36, 81, 144, 225, 324]\n"
          ]
        }
      ]
    },
    {
      "cell_type": "code",
      "source": [
        "list_input = [1,2,3,4,5]\n",
        "\n",
        "squares = [x**2 for x in list_input]\n",
        "print(squares)"
      ],
      "metadata": {
        "colab": {
          "base_uri": "https://localhost:8080/"
        },
        "id": "xGCUyWXGT4AE",
        "outputId": "860ee95b-3814-4b96-8a82-a0bbd8abff67"
      },
      "execution_count": 21,
      "outputs": [
        {
          "output_type": "stream",
          "name": "stdout",
          "text": [
            "[1, 4, 9, 16, 25]\n"
          ]
        }
      ]
    },
    {
      "cell_type": "code",
      "source": [
        "list_input = [\"Seoul\", \"New York\", \"London\", \"Shanghai\", \"Paris\", \"Tokyo\"]\n",
        "\n",
        "squares = [x for x in list_input if \"S\" in x ]\n",
        "\n",
        "print(squares)"
      ],
      "metadata": {
        "colab": {
          "base_uri": "https://localhost:8080/"
        },
        "id": "N-DNEjPxUJ5d",
        "outputId": "2ed7401f-4e6f-49a9-db9c-3db7ee801f9b"
      },
      "execution_count": 33,
      "outputs": [
        {
          "output_type": "stream",
          "name": "stdout",
          "text": [
            "['Seoul', 'Shanghai']\n"
          ]
        }
      ]
    },
    {
      "cell_type": "code",
      "source": [
        "city = []\n",
        "list_city = [\"Seoul\", \"New York\", \"London\", \"Shanghai\", \"Paris\", \"Tokyo\"]\n",
        "\n",
        "for c in list_city:\n",
        "  if \"S\" in c:\n",
        "    city.append(c)\n",
        "\n",
        "print(city)"
      ],
      "metadata": {
        "colab": {
          "base_uri": "https://localhost:8080/"
        },
        "id": "ZcJLUelBU5I1",
        "outputId": "52f242de-2c28-4cd7-e80b-84beb692570e"
      },
      "execution_count": 31,
      "outputs": [
        {
          "output_type": "stream",
          "name": "stdout",
          "text": [
            "['Seoul', 'Shanghai']\n"
          ]
        }
      ]
    },
    {
      "cell_type": "markdown",
      "source": [
        "enumerate"
      ],
      "metadata": {
        "id": "yDSdpWOHVwVm"
      }
    },
    {
      "cell_type": "code",
      "source": [
        "#인덱스와 값이 같이 나옴\n",
        "\n",
        "fruits = ['apple', 'banana', 'cherry']\n",
        "for index, fruit in enumerate(fruits, start=0):\n",
        "  print(index, fruit)\n",
        "\n",
        "\n",
        "# iterable: 반복 가능한(iterable) 객체\n",
        "# start (선택사항): 인덱스를 시작할 값으로 기본값은 0"
      ],
      "metadata": {
        "colab": {
          "base_uri": "https://localhost:8080/"
        },
        "id": "CqS2j5uvVMI9",
        "outputId": "e987baea-fc37-430e-a53f-6f9e40426fd8"
      },
      "execution_count": 36,
      "outputs": [
        {
          "output_type": "stream",
          "name": "stdout",
          "text": [
            "0 apple\n",
            "1 banana\n",
            "2 cherry\n"
          ]
        }
      ]
    },
    {
      "cell_type": "code",
      "source": [
        "fruit = ['a', 'b', 'c']\n",
        "\n",
        "for index, fruit in enumerate(fruit):\n",
        "  print(\"fruit%d name is %s\"%(index, fruit))"
      ],
      "metadata": {
        "colab": {
          "base_uri": "https://localhost:8080/"
        },
        "id": "efU5k_RTWbHH",
        "outputId": "d3aa79d7-5d60-4507-b3b4-7afb7783e6ec"
      },
      "execution_count": 45,
      "outputs": [
        {
          "output_type": "stream",
          "name": "stdout",
          "text": [
            "fruit0 name is a\n",
            "fruit1 name is b\n",
            "fruit2 name is c\n"
          ]
        }
      ]
    },
    {
      "cell_type": "code",
      "source": [
        "fruit = ['a', 'b', 'c']\n",
        "\n",
        "for x in range(0,3):\n",
        "    print(\"fruit%d name is %s\"%(x,fruit[x]))"
      ],
      "metadata": {
        "colab": {
          "base_uri": "https://localhost:8080/"
        },
        "id": "LWND3GUPXyw-",
        "outputId": "560952d8-f22b-4bef-e826-31a253124f64"
      },
      "execution_count": 51,
      "outputs": [
        {
          "output_type": "stream",
          "name": "stdout",
          "text": [
            "fruit0 name is a\n",
            "fruit1 name is b\n",
            "fruit2 name is c\n"
          ]
        }
      ]
    },
    {
      "cell_type": "markdown",
      "source": [
        "zip :  두 개 이상의 순회 가능한 객체를 병렬적으로 순회하면서 각 항목을 튜플로 묶어 반환."
      ],
      "metadata": {
        "id": "gYyMBb9ZZNNl"
      }
    },
    {
      "cell_type": "code",
      "source": [
        "names = ['John', 'Jane', 'Doe']\n",
        "ages = [25, 30, 35]\n",
        "\n",
        "for name, age in zip(names, ages):\n",
        "  print(f\"{name} is {age} years old\")"
      ],
      "metadata": {
        "colab": {
          "base_uri": "https://localhost:8080/"
        },
        "id": "nCEcSO9oY7sG",
        "outputId": "721c5cf9-a327-4ce0-8a57-21923ed00613"
      },
      "execution_count": 54,
      "outputs": [
        {
          "output_type": "stream",
          "name": "stdout",
          "text": [
            "John is 25 years old\n",
            "Jane is 30 years old\n",
            "Doe is 35 years old\n"
          ]
        }
      ]
    },
    {
      "cell_type": "code",
      "source": [
        "names = ['John', 'Jane', 'Doe']\n",
        "ages = [25, 30, 35]\n",
        "\n",
        "a = dict(zip(names, ages))\n",
        "print(a)"
      ],
      "metadata": {
        "colab": {
          "base_uri": "https://localhost:8080/"
        },
        "id": "ViG-JrZDZlE2",
        "outputId": "80e78320-b6ac-45f7-cd6a-10c1a1fbe213"
      },
      "execution_count": 55,
      "outputs": [
        {
          "output_type": "stream",
          "name": "stdout",
          "text": [
            "{'John': 25, 'Jane': 30, 'Doe': 35}\n"
          ]
        }
      ]
    },
    {
      "cell_type": "code",
      "source": [
        "list1 = [1, 2, 3]\n",
        "list2 = [4, 5, 6]\n",
        "list3 = [7, 8, 9]\n",
        "\n",
        "#행 방향 열 방향 각각 더해보기\n",
        "\n",
        "for A,B,C in zip(list1, list2, list3):\n",
        "  print(A, B, C)"
      ],
      "metadata": {
        "colab": {
          "base_uri": "https://localhost:8080/"
        },
        "id": "71vLzlayZ-E2",
        "outputId": "081348c3-2b3f-44cf-edc5-e6d874f48a8e"
      },
      "execution_count": 56,
      "outputs": [
        {
          "output_type": "stream",
          "name": "stdout",
          "text": [
            "1 4 7\n",
            "2 5 8\n",
            "3 6 9\n"
          ]
        }
      ]
    },
    {
      "cell_type": "code",
      "source": [
        "name = [\"M\", \"N\", \"S\", \"A\"]\n",
        "roll_no = [4, 1, 3, 2]\n",
        "\n",
        "result = list(zip(name, roll_no))\n",
        "print(result)"
      ],
      "metadata": {
        "colab": {
          "base_uri": "https://localhost:8080/"
        },
        "id": "iUYhUnVNaftm",
        "outputId": "da974121-56f5-42af-e7f5-f440b4aa452e"
      },
      "execution_count": 68,
      "outputs": [
        {
          "output_type": "stream",
          "name": "stdout",
          "text": [
            "[('M', 4), ('N', 1), ('S', 3), ('A', 2)]\n"
          ]
        }
      ]
    },
    {
      "cell_type": "code",
      "source": [
        "names = ['M', 'R', 'C']\n",
        "ages = [24, 50, 18]\n",
        "\n",
        "a = list((zip(names, ages)))\n",
        "\n",
        "#enumerate\n"
      ],
      "metadata": {
        "colab": {
          "base_uri": "https://localhost:8080/"
        },
        "id": "L6iByQuKbwo_",
        "outputId": "974cdb9a-11b3-4a5c-e701-3adc29f68f78"
      },
      "execution_count": 69,
      "outputs": [
        {
          "output_type": "stream",
          "name": "stdout",
          "text": [
            "[('M', 24), ('R', 50), ('C', 18)]\n"
          ]
        }
      ]
    },
    {
      "cell_type": "markdown",
      "source": [
        "lambda 함수\n",
        "\n",
        " 이름 없는 함수(익명 함수)를 정의할 때 사용합니다."
      ],
      "metadata": {
        "id": "4fZteJUjdiKW"
      }
    },
    {
      "cell_type": "code",
      "source": [
        "double = lambda x: x * 2\n",
        "print(double(5))"
      ],
      "metadata": {
        "colab": {
          "base_uri": "https://localhost:8080/"
        },
        "id": "LBWt6Nt2dmeF",
        "outputId": "5e1f2963-534c-4675-f133-c61cce7d7d0d"
      },
      "execution_count": 70,
      "outputs": [
        {
          "output_type": "stream",
          "name": "stdout",
          "text": [
            "10\n"
          ]
        }
      ]
    },
    {
      "cell_type": "code",
      "source": [
        "add = lambda x,y: x+y\n",
        "print(add(5,4))"
      ],
      "metadata": {
        "colab": {
          "base_uri": "https://localhost:8080/"
        },
        "id": "iZUejTVdeDup",
        "outputId": "721055aa-0413-41fb-915e-54677424a98c"
      },
      "execution_count": 73,
      "outputs": [
        {
          "output_type": "stream",
          "name": "stdout",
          "text": [
            "9\n"
          ]
        }
      ]
    },
    {
      "cell_type": "markdown",
      "source": [
        "map :  함수와 순회 가능한 객체를 받아, 객체의 각 항목에 함수를 적용한 결과를 반환."
      ],
      "metadata": {
        "id": "Tm2TOjCSfDve"
      }
    },
    {
      "cell_type": "code",
      "source": [
        "# map(function, iterable1, iterable2, ...)"
      ],
      "metadata": {
        "id": "jzGzX-gNelA1"
      },
      "execution_count": null,
      "outputs": []
    }
  ]
}