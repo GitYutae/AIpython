{
  "nbformat": 4,
  "nbformat_minor": 0,
  "metadata": {
    "colab": {
      "provenance": [],
      "authorship_tag": "ABX9TyMheQYbkhxwmS2TOBTGjD2n",
      "include_colab_link": true
    },
    "kernelspec": {
      "name": "python3",
      "display_name": "Python 3"
    },
    "language_info": {
      "name": "python"
    }
  },
  "cells": [
    {
      "cell_type": "markdown",
      "metadata": {
        "id": "view-in-github",
        "colab_type": "text"
      },
      "source": [
        "<a href=\"https://colab.research.google.com/github/GitYutae/AIpython/blob/main/240102.ipynb\" target=\"_parent\"><img src=\"https://colab.research.google.com/assets/colab-badge.svg\" alt=\"Open In Colab\"/></a>"
      ]
    },
    {
      "cell_type": "markdown",
      "source": [
        "Program 2-6 (variable_demo1.py)"
      ],
      "metadata": {
        "id": "rFF_kcSaB4gP"
      }
    },
    {
      "cell_type": "code",
      "execution_count": 41,
      "metadata": {
        "colab": {
          "base_uri": "https://localhost:8080/"
        },
        "id": "zRwgVF0CB2RX",
        "outputId": "9437bb13-6d09-4ca2-83db-e35feb74f516"
      },
      "outputs": [
        {
          "output_type": "stream",
          "name": "stdout",
          "text": [
            "우리가 수업하는 실습실:\n",
            "105\n"
          ]
        }
      ],
      "source": [
        "#하나의 변수를 활용하는 코드입니다.\n",
        "Lab = 105\n",
        "print('우리가 수업하는 실습실:')\n",
        "print(Lab)"
      ]
    },
    {
      "cell_type": "markdown",
      "source": [
        "Program 2-7 (variable_demo2.py)"
      ],
      "metadata": {
        "id": "x3J9tQt9CZFI"
      }
    },
    {
      "cell_type": "code",
      "source": [
        "#하나의 변수를 활용하는 코드입니다.\n",
        "Lab = 105\n",
        "print('우리가 수업하는 실습실:', Lab)"
      ],
      "metadata": {
        "colab": {
          "base_uri": "https://localhost:8080/"
        },
        "id": "HQ7LRSFjCZw-",
        "outputId": "d1882e00-60ae-4e30-b0cf-de59f5757581"
      },
      "execution_count": 42,
      "outputs": [
        {
          "output_type": "stream",
          "name": "stdout",
          "text": [
            "우리가 수업하는 실습실: 105\n"
          ]
        }
      ]
    },
    {
      "cell_type": "markdown",
      "source": [
        "Program 2-8 (variable_demo3.py)"
      ],
      "metadata": {
        "id": "uRq5aCSrCug2"
      }
    },
    {
      "cell_type": "code",
      "source": [
        "#변수 두 개를 생성하고 값을 할당\n",
        "my_id = 202006225\n",
        "grade = 2\n",
        "\n",
        "#두 개의 변수에 할당된 값을 출력\n",
        "print('나의 학번: ')\n",
        "print(my_id)\n",
        "print('학년: ')\n",
        "print(grade)"
      ],
      "metadata": {
        "colab": {
          "base_uri": "https://localhost:8080/"
        },
        "id": "LUlDpX2OCu1t",
        "outputId": "82e692a8-769d-405e-a789-2c581c17d1ea"
      },
      "execution_count": 43,
      "outputs": [
        {
          "output_type": "stream",
          "name": "stdout",
          "text": [
            "나의 학번: \n",
            "202006225\n",
            "학년: \n",
            "2\n"
          ]
        }
      ]
    },
    {
      "cell_type": "markdown",
      "source": [
        "Program 2-9 (variable_demo4.py)"
      ],
      "metadata": {
        "id": "dmqb-N4wDiuH"
      }
    },
    {
      "cell_type": "code",
      "source": [
        "#변수에 값을 할당하고 출력하는 예제입니다.\n",
        "#dollars 변수에 값을 할당해봅시다.\n",
        "\n",
        "dollars = 2.75\n",
        "print('I have', dollars, 'in my account.')\n",
        "\n",
        "#dollars 변수에 새로운 값을 할당해봅시다.\n",
        "\n",
        "dollars = 99.95\n",
        "print('But now I have', dollars, 'in my account!')"
      ],
      "metadata": {
        "colab": {
          "base_uri": "https://localhost:8080/"
        },
        "id": "PLMdA5I1DlFY",
        "outputId": "41b0f77c-6fab-4e5a-f671-edf7577cd1ec"
      },
      "execution_count": 44,
      "outputs": [
        {
          "output_type": "stream",
          "name": "stdout",
          "text": [
            "I have 2.75 in my account.\n",
            "But now I have 99.95 in my account!\n"
          ]
        }
      ]
    },
    {
      "cell_type": "markdown",
      "source": [
        "Program 2-10 (string_variable.py)"
      ],
      "metadata": {
        "id": "yisrnEMrELCO"
      }
    },
    {
      "cell_type": "code",
      "source": [
        "#두 개의 변수를 생성하고 문자열을 할당합니다.\n",
        "department = '문헌정보학과'\n",
        "name = '최유태'\n",
        "\n",
        "#각 변수에 할당된 문자열 값을 출력해보자\n",
        "print(department, name)"
      ],
      "metadata": {
        "colab": {
          "base_uri": "https://localhost:8080/"
        },
        "id": "92Mq_LwoDtVf",
        "outputId": "2f13dea2-9803-4e87-fabb-1f3612bdde67"
      },
      "execution_count": 45,
      "outputs": [
        {
          "output_type": "stream",
          "name": "stdout",
          "text": [
            "문헌정보학과 최유태\n"
          ]
        }
      ]
    },
    {
      "cell_type": "markdown",
      "source": [
        "Program 2-11 (string_input.py)"
      ],
      "metadata": {
        "id": "lRhHWLQBEaJG"
      }
    },
    {
      "cell_type": "code",
      "source": [
        "#학과명을 입력받습니다.\n",
        "department = input('학과명: ')\n",
        "\n",
        "#여러분의 이름을 입력받습니다.\n",
        "name = input('성명: ')\n",
        "\n",
        "#두 변수의 값을 출력합니다.\n",
        "print('안녕하세요', department, name)"
      ],
      "metadata": {
        "colab": {
          "base_uri": "https://localhost:8080/"
        },
        "id": "dtVbBm1IEbw4",
        "outputId": "bcef503f-579e-4434-89f8-6c3ce27e0c56"
      },
      "execution_count": 46,
      "outputs": [
        {
          "output_type": "stream",
          "name": "stdout",
          "text": [
            "학과명: 문헌정보학과\n",
            "성명: 최유태\n",
            "안녕하세요 문헌정보학과 최유태\n"
          ]
        }
      ]
    },
    {
      "cell_type": "markdown",
      "source": [
        "Program 2-12 (input.py)"
      ],
      "metadata": {
        "id": "3Ie1GkaxEo2d"
      }
    },
    {
      "cell_type": "code",
      "source": [
        "#여러분의 이름, 나이, 통학시간 정보를 입력받습니다\n",
        "\n",
        "name = input(\"당신의 이름은 무엇입니까? \")\n",
        "age = int(input(\"나이는 어떻게 되시나요? \"))\n",
        "attending_time = float(input(\"통학시간은 얼마나 걸립니까? \"))\n",
        "\n",
        "#변수에 입력된 데이터를 출력해봅시다.\n",
        "\n",
        "print('입력 정보는 다음과 같습니다.')\n",
        "print('이름:', name)\n",
        "print('나이:', age)\n",
        "print('통학시간:', attending_time)"
      ],
      "metadata": {
        "colab": {
          "base_uri": "https://localhost:8080/"
        },
        "id": "g-rkMT-zEqE0",
        "outputId": "2283b994-6fe4-4089-d963-1774d5e8d8b1"
      },
      "execution_count": 47,
      "outputs": [
        {
          "output_type": "stream",
          "name": "stdout",
          "text": [
            "당신의 이름은 무엇입니까? 최유태\n",
            "나이는 어떻게 되시나요? 25\n",
            "통학시간은 얼마나 걸립니까? 45\n",
            "입력 정보는 다음과 같습니다.\n",
            "이름: 최유태\n",
            "나이: 25\n",
            "통학시간: 45.0\n"
          ]
        }
      ]
    },
    {
      "cell_type": "markdown",
      "source": [
        "Program 2-13 (simple_math.py)"
      ],
      "metadata": {
        "id": "IBJR0d6dFXm0"
      }
    },
    {
      "cell_type": "code",
      "source": [
        "# salary 변수에 급여를 할당합니다.\n",
        "salary = 2500.0\n",
        "\n",
        "# bonus 변수에 보너스를 할당합니다.\n",
        "bonus = 1200.0\n",
        "\n",
        "#급여와 보너스를 더하여 총 급여를 구해봅시다.\n",
        "#총 급여를 pay 변수에 할당합니다.\n",
        "pay = salary + bonus\n",
        "\n",
        "# 총 급여를 출력합니다.\n",
        "print('총 급여:', pay)"
      ],
      "metadata": {
        "colab": {
          "base_uri": "https://localhost:8080/"
        },
        "id": "mv8CBOKDFWDP",
        "outputId": "7adf2646-8467-41c6-d710-1d9a4c43bb08"
      },
      "execution_count": 48,
      "outputs": [
        {
          "output_type": "stream",
          "name": "stdout",
          "text": [
            "총 급여: 3700.0\n"
          ]
        }
      ]
    },
    {
      "cell_type": "markdown",
      "source": [
        "Program 2-14 (sale_price.py)"
      ],
      "metadata": {
        "id": "Zzyz-ck0Fszt"
      }
    },
    {
      "cell_type": "code",
      "source": [
        "# 본 예제에서는 원가에 할인율을 적용하여 할인가격을 계산해보자.\n",
        "\n",
        "# original price 변수에 원가를 입력받는다.\n",
        "original_price = float(input(\"제품의 원가를 입력해주세요: \"))\n",
        "\n",
        "# 원가에 할인율 20%를 적용하여 할인가를 계산하여 discount 변수에 할당한다.\n",
        "discount = original_price * 0.2\n",
        "\n",
        "# 원가에 할인가가 적용된 제품 가격을 계산하여 sale_price 변수에 할당한다.\n",
        "sale_price = original_price - discount\n",
        "\n",
        "# 할인가가 적용된 제품 가격을 출력한다.\n",
        "print('할인가격: ', sale_price)"
      ],
      "metadata": {
        "colab": {
          "base_uri": "https://localhost:8080/"
        },
        "id": "wnr_IoH5Fui1",
        "outputId": "14ae6a13-3432-4349-bff4-df774a6144e5"
      },
      "execution_count": 49,
      "outputs": [
        {
          "output_type": "stream",
          "name": "stdout",
          "text": [
            "제품의 원가를 입력해주세요: 100.00\n",
            "할인가격:  80.0\n"
          ]
        }
      ]
    },
    {
      "cell_type": "markdown",
      "source": [
        "Program 2-15 (test_score_average.py)"
      ],
      "metadata": {
        "id": "0kMT2KmLGXi9"
      }
    },
    {
      "cell_type": "code",
      "source": [
        "# 세 과목의 평가 점수를 입력받고\n",
        "# test1, test2, test3 변수에 각각 할당한다\n",
        "\n",
        "test1 = float(input('첫 번째 과목 점수를 입력해주세요: '))\n",
        "test2 = float(input('두 번째 과목 점수를 입력해주세요: '))\n",
        "test3 = float(input('세 번째 과목 점수를 입력해주세요: '))\n",
        "\n",
        "# 각 과목의 점수 평균을 계산하고\n",
        "# 그 결과 값을 average 변수에 할당한다\n",
        "\n",
        "average = (test1 + test2 + test3) / 3.0\n",
        "\n",
        "# 점수 평균을 출력한다\n",
        "print('세 과목의 평균 점수: ', average)"
      ],
      "metadata": {
        "colab": {
          "base_uri": "https://localhost:8080/"
        },
        "id": "-5sJoO1oGY9l",
        "outputId": "99623cc2-1b59-478a-e220-2f6695e427bd"
      },
      "execution_count": 50,
      "outputs": [
        {
          "output_type": "stream",
          "name": "stdout",
          "text": [
            "첫 번째 과목 점수를 입력해주세요: 90\n",
            "두 번째 과목 점수를 입력해주세요: 80\n",
            "세 번째 과목 점수를 입력해주세요: 100\n",
            "세 과목의 평균 점수:  90.0\n"
          ]
        }
      ]
    },
    {
      "cell_type": "markdown",
      "source": [
        "Program 2-16 (time_converter.py)\n"
      ],
      "metadata": {
        "id": "eeaxU-jlG5am"
      }
    },
    {
      "cell_type": "code",
      "source": [
        "# 본 예제는 초를 입력받아 시, 분, 초로 변환하는 프로그램이다.\n",
        "# 초 값을 입력받아 total_seconds 변수에 할당한다.\n",
        "\n",
        "total_seconds = float(input('시간 값을 초 단위로 입력해주세요: '))\n",
        "\n",
        "# 시간을 계산하여 hours 변수에 할당한다.\n",
        "\n",
        "hours = total_seconds // 3600 #시간값은 초를 3600으로 나눈 몫과 같다 (나머지 제외)\n",
        "#초가 3660일 경우 3660/3600=1.\n",
        "\n",
        "# 분을 계산하여 minutes 변수에 할당한다.\n",
        "\n",
        "minutes = (total_seconds // 60) % 60 #분값은 초를 60으로 나눈 뒤 그 값을 60으로 나눈 나머지와 같다\n",
        "\n",
        "# 초의 나머지 값을 seconds 변수에 할당한다.\n",
        "\n",
        "seconds = total_seconds % 60 #초값은 초를 60으로 나눈 나머지와 같다\n",
        "\n",
        "# 시, 분, 초 값을 출력한다.\n",
        "print('시, 분, 초는 다음과 같습니다.')\n",
        "print('시: ', hours)\n",
        "print('분: ', minutes)\n",
        "print('초: ', seconds)"
      ],
      "metadata": {
        "colab": {
          "base_uri": "https://localhost:8080/"
        },
        "id": "ev7nNxsMG5JX",
        "outputId": "528677f3-c491-4f30-f4dc-ce35903ffbea"
      },
      "execution_count": 55,
      "outputs": [
        {
          "output_type": "stream",
          "name": "stdout",
          "text": [
            "시간 값을 초 단위로 입력해주세요: 11730\n",
            "시, 분, 초는 다음과 같습니다.\n",
            "시:  3.0\n",
            "분:  15.0\n",
            "초:  30.0\n"
          ]
        }
      ]
    },
    {
      "cell_type": "markdown",
      "source": [
        "Program 2-17 (future_value.py)"
      ],
      "metadata": {
        "id": "DnqhinYjG6Ge"
      }
    },
    {
      "cell_type": "code",
      "source": [
        "# 본 예제는 목표액을 특정 이율로 얻고자 할 경우 매년 적립해야할 금액을 계산해보자.\n",
        "# 목표액을 입력받고 future_value 변수에 할당한다.\n",
        "\n",
        "future_value = float(input('목표 금액을 입력해주세요: '))\n",
        "\n",
        "# 연간 이율을 입력받고 rate 변수에 할당한다.\n",
        "\n",
        "rate = float(input('연간 이율을 입력해주세요: '))\n",
        "\n",
        "# 적립 기간을 연 단위로 입력받고 years 변수에 할당한다.\n",
        "\n",
        "years = int(input('저축 기간을 연 단위로 입력해주세요: '))\n",
        "\n",
        "# 특정 기간동안 적립해야할 금액을 계산하여 present_value 변수에 할당한다.\n",
        "\n",
        "present_value = future_value / (1.0 + rate) ** years #적립금액 공식: 목표액 / (1.0 + 연간 이율) ** 적립기간(연)\n",
        "\n",
        "# 적립 금액을 출력한다.\n",
        "\n",
        "print('적립 금액: ', present_value)"
      ],
      "metadata": {
        "colab": {
          "base_uri": "https://localhost:8080/"
        },
        "id": "Z7IpbmRKG5qH",
        "outputId": "33d5251d-93e4-479b-e97a-efe03cafdd05"
      },
      "execution_count": 56,
      "outputs": [
        {
          "output_type": "stream",
          "name": "stdout",
          "text": [
            "목표 금액을 입력해주세요: 10000.0\n",
            "연간 이율을 입력해주세요: 0.05\n",
            "저축 기간을 연 단위로 입력해주세요: 10\n",
            "적립 금액:  6139.132535407592\n"
          ]
        }
      ]
    },
    {
      "cell_type": "markdown",
      "source": [
        "Program 2-18 (separator.py)"
      ],
      "metadata": {
        "id": "UfjptwILG6em"
      }
    },
    {
      "cell_type": "code",
      "source": [
        "# print() 함수에서 쉼표로 데이터를 구분하여 출력할 때\n",
        "# 자동적으로 분리되는 빈 칸을 sep 옵션으로 제어할 수 있다.\n",
        "\n",
        "print('a','b','c')\n",
        "print('a','b','c', sep='') #각 문자열 사이에 공백을 없애준다.\n",
        "print('a','b','c', sep='***') #각 문자열 사이에 ***을 넣어준다."
      ],
      "metadata": {
        "colab": {
          "base_uri": "https://localhost:8080/"
        },
        "id": "vPnU_HTnGcr_",
        "outputId": "a384db3f-057c-4d6e-cca4-e6b4d5adce94"
      },
      "execution_count": 20,
      "outputs": [
        {
          "output_type": "stream",
          "name": "stdout",
          "text": [
            "a b c\n",
            "abc\n",
            "a***b***c\n"
          ]
        }
      ]
    },
    {
      "cell_type": "markdown",
      "source": [
        "Program 2-19 (end.py)"
      ],
      "metadata": {
        "id": "cXNe5NQBHC9V"
      }
    },
    {
      "cell_type": "code",
      "source": [
        "# print() 함수를 여러 번 사용할 경우, 각 print() 함수가 수행된 후에는\n",
        "# 자동적으로 줄바꿈이 일어난다. 이는 커서가 자동으로 내려가기 때문인데\n",
        "# 커서를 줄바꿈시키지 않고 바로 옆에 놓고 같은 줄에 여러 print() 함수의 내용을\n",
        "# 나타내고자 할 때 end 옵션을 사용할 수 있다.\n",
        "\n",
        "print('a')\n",
        "print('b')\n",
        "print('c', end='') #다음 열을 한 줄 띄우지 않고 붙여줌\n",
        "print('d', end='') #다음 열을 한 줄 띄우지 않고 붙여줌\n",
        "print('e', end='***') #다음 열을 한 줄 띄우지 않고 '***'을 포함한 채 붙여줌\n",
        "print('f')"
      ],
      "metadata": {
        "colab": {
          "base_uri": "https://localhost:8080/"
        },
        "id": "yaZ6UdesHDRm",
        "outputId": "2e7910c5-7701-4e00-93ea-dddb1e4f987e"
      },
      "execution_count": 23,
      "outputs": [
        {
          "output_type": "stream",
          "name": "stdout",
          "text": [
            "a\n",
            "b\n",
            "cde***f\n"
          ]
        }
      ]
    },
    {
      "cell_type": "markdown",
      "source": [
        "Program 2-20 (no_formatting.py)"
      ],
      "metadata": {
        "id": "ud7nyPRaKAaQ"
      }
    },
    {
      "cell_type": "code",
      "source": [
        "# 본 예제는 부동 소수점이 출력되는 연산을 수행해본다.\n",
        "# 소수점 길이를 제어하지 않고 결과 값을 출력한다\n",
        "\n",
        "amount_due = 5000.0\n",
        "monthly_payment = amount_due / 12.0\n",
        "print('월급여: ', monthly_payment)"
      ],
      "metadata": {
        "colab": {
          "base_uri": "https://localhost:8080/"
        },
        "id": "W-W9EwjsKA11",
        "outputId": "043dfe37-6170-417e-a669-238602f3f569"
      },
      "execution_count": 25,
      "outputs": [
        {
          "output_type": "stream",
          "name": "stdout",
          "text": [
            "월급여:  416.6666666666667\n"
          ]
        }
      ]
    },
    {
      "cell_type": "markdown",
      "source": [
        "Program 2-21 (formatting.py)"
      ],
      "metadata": {
        "id": "rr2kogigKBYN"
      }
    },
    {
      "cell_type": "code",
      "source": [
        "# 본 예제에서는 소수점 자리를 제어하여 결과를 출력해보자.\n",
        "amount_due = 5000.0\n",
        "monthly_payment = amount_due / 12.0\n",
        "print('월급여: ', format(monthly_payment,'.2f'))"
      ],
      "metadata": {
        "colab": {
          "base_uri": "https://localhost:8080/"
        },
        "id": "83mssm3SKCcF",
        "outputId": "b902f2f4-74e7-4084-e480-37ac719b7014"
      },
      "execution_count": 28,
      "outputs": [
        {
          "output_type": "stream",
          "name": "stdout",
          "text": [
            "월급여:  416.67\n"
          ]
        }
      ]
    },
    {
      "cell_type": "markdown",
      "source": [
        "Program 2-22 (dollar_display.py)"
      ],
      "metadata": {
        "id": "CFw91_v2KC81"
      }
    },
    {
      "cell_type": "code",
      "source": [
        "# 본 예제도 소수점 자리를 제어하여 결과를 출력해보자.\n",
        "monthly_pay = 5000.0\n",
        "annual_pay = monthly_pay * 12\n",
        "print(\"Your annual pay is $\", format(annual_pay, ',.2f'), sep=\"\") #(실수와 소수 사이) 콤마를 넣으면 단위표시가 뜸\n",
        "print(\"Your annual pay is $\", format(annual_pay, ',.2f')) #sep=\"\"를 넣지 않으면 $와 금액 사이에 공백이 생김"
      ],
      "metadata": {
        "colab": {
          "base_uri": "https://localhost:8080/"
        },
        "id": "Uwn8DKeLKEBt",
        "outputId": "52c8cc5a-984f-4cc5-cc78-8b7d884374b1"
      },
      "execution_count": 40,
      "outputs": [
        {
          "output_type": "stream",
          "name": "stdout",
          "text": [
            "Your annual pay is $60,000.00\n",
            "Your annual pay is $ 60,000.00\n"
          ]
        }
      ]
    },
    {
      "cell_type": "markdown",
      "source": [
        "Program 2-23 (columns.py)"
      ],
      "metadata": {
        "id": "9EgUOF0FKEqG"
      }
    },
    {
      "cell_type": "code",
      "source": [
        "# 본 예제는 부동 소수점을 특정 너비에 맞추어 출력하는 방법에 대해 알아보자.\n",
        "# 아래와 같이 각 변수에 부동 소수점이 포함된 값을 할당한다.\n",
        "\n",
        "num1 = 127.899\n",
        "num2 = 3465.148\n",
        "num3 = 3.776\n",
        "num4 = 264.821\n",
        "num5 = 88.081\n",
        "num6 = 799.999\n",
        "\n",
        "# 7칸에 맞추어 부동 소수점이 포함된 변수 값을 출력한다.\n",
        "\n",
        "print(format(num1, '7.2f')) #정수 7자리 / 소수점 둘째까지 / 실수형\n",
        "print(format(num2, '7.2f'))\n",
        "print(format(num3, '7.2f'))\n",
        "print(format(num4, '7.2f'))\n",
        "print(format(num5, '7.2f'))\n",
        "print(format(num6, '7.2f'))"
      ],
      "metadata": {
        "colab": {
          "base_uri": "https://localhost:8080/"
        },
        "id": "iO2bEFxFKF_F",
        "outputId": "780c1ecf-6553-418e-cd49-48ffe9380a58"
      },
      "execution_count": 38,
      "outputs": [
        {
          "output_type": "stream",
          "name": "stdout",
          "text": [
            " 127.90\n",
            "3,465.15\n",
            "   3.78\n",
            " 264.82\n",
            "  88.08\n",
            " 800.00\n"
          ]
        }
      ]
    }
  ]
}